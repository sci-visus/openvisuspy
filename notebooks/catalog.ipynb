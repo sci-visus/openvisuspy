{
 "cells": [
  {
   "cell_type": "markdown",
   "id": "b5f6921c",
   "metadata": {},
   "source": [
    "# Example about how to add a dataset catalog to OpenVisus\n",
    "\n",
    "Using the idea of `visus.config` but centrally managed in a catalog file.\n",
    "To maintain backward compatibility, the catalog is stored in XML format, but it can be migrated to JSON and/or YAML in the future.\n"
   ]
  },
  {
   "cell_type": "markdown",
   "id": "8d62b296",
   "metadata": {},
   "source": [
    "## Import the necessary libraries\n",
    "\n"
   ]
  },
  {
   "cell_type": "code",
   "execution_count": 1,
   "id": "b35aa953",
   "metadata": {},
   "outputs": [
    {
     "name": "stdout",
     "output_type": "stream",
     "text": [
      "1751003265.7636766 OpenVisus imported\n"
     ]
    }
   ],
   "source": [
    "import os,sys,logging,time\n",
    "import numpy as np\n",
    "\n",
    "# needed only in debug mode\n",
    "debug_mode=True\n",
    "if debug_mode:\n",
    "  sys.path.append(\"c:/projects/openvisus/build/RelWithDebInfo\")\n",
    "  sys.path.append(\"c:/projects/openvisuspy/src\")\n",
    "\n",
    "import OpenVisus as ov\n",
    "import openvisuspy\n",
    "print(time.time(),\"OpenVisus imported\")"
   ]
  },
  {
   "cell_type": "code",
   "execution_count": 2,
   "id": "2d061106",
   "metadata": {},
   "outputs": [],
   "source": [
    "## Catalog source code, to be integrated into openvisuspy"
   ]
  },
  {
   "cell_type": "code",
   "execution_count": null,
   "id": "4c1bb189",
   "metadata": {},
   "outputs": [],
   "source": [
    "import os,requests\n",
    "\n",
    "# change as needed. Valerio mentioned the necessity to have a default catalog, embedded in the Python package, in case the remote catalog is not available.\n",
    "DEFAULT_CATALOG = \"\"\"\n",
    "    <datasets>\n",
    "        <dataset name='2kbit1' url='http://atlantis.sci.utah.edu/mod_visus?dataset=2kbit1' >\n",
    "            <access type='network' chmod='r' compression='zip'  />\n",
    "        </dataset>\n",
    "    </datasets>\n",
    "    \"\"\"\n",
    "\n",
    "# ///////////////////////////////////////////////////////////////////////////\n",
    "def LoadCatalog(url:str=None)-> str:\n",
    "\n",
    "  \"\"\"\n",
    "  url: str or None\n",
    "  - None: use the default catalog\n",
    "  - str: URL to the catalog, can be a local file path (i.e. ~/visus.config) or a remote URL (`http://nationalsciencedatafabric.org/catalog.config`).\n",
    "  - str: body of the catalog in XML format (to be extended to JSON and YAML too?).\n",
    "  \"\"\"\n",
    "\n",
    "  if url is None:\n",
    "    return DEFAULT_CATALOG\n",
    "\n",
    "  local_path=os.path.expanduser(url)\n",
    "  if os.path.exists(local_path):\n",
    "    with open(local_path, 'r') as f:\n",
    "        return f.read()\n",
    "\n",
    "  if url.startswith('http://') or url.startswith('https://'):\n",
    "    response = requests.get(url)\n",
    "    response.raise_for_status()\n",
    "    return response.text\n",
    "\n",
    "\n",
    "\n",
    "  # assuming url is a string containing the catalog\n",
    "  body=url\n",
    "  try:\n",
    "    if ov.StringTree.fromString(body).valid():\n",
    "      return body\n",
    "\n",
    "  except :\n",
    "    pass\n",
    "  \n",
    "  raise ValueError(\"Invalid url. Please provide None | valid url | XML document.\")\n",
    "\n",
    "\n",
    "# ///////////////////////////////////////////////////////////////////////////\n",
    "def LoadDataset(name:str, catalog:str=None):\n",
    "\n",
    "  \"\"\"\n",
    "  extend the current openviuspy to support loading datasets from a catalog.\n",
    "  \"\"\"\n",
    "\n",
    "  if catalog is None:\n",
    "    # no catalog provided, load dataset directly (standard behavior)\n",
    "    return ovpy.LoadDataset(name)\n",
    "\n",
    "  else:\n",
    "    # need to load dataset from the provided catalog\n",
    "    stree = ov.StringTree.fromString(catalog)\n",
    "    N=stree.getNumberOfChilds()\n",
    "    for I in range(N):\n",
    "        child = stree.getChild(I)\n",
    "        if child.name==\"dataset\" and child.getAttribute(\"name\") == name:\n",
    "            return ov.LoadDatasetEx(child)\n",
    "\n",
    "  raise ValueError(f\"Dataset '{name}' not found in the catalog.\")\n",
    "\n"
   ]
  },
  {
   "cell_type": "markdown",
   "id": "a6cd8862",
   "metadata": {},
   "source": [
    "## Example of usage of default catalog"
   ]
  },
  {
   "cell_type": "code",
   "execution_count": 44,
   "id": "4d0497cc",
   "metadata": {},
   "outputs": [
    {
     "name": "stdout",
     "output_type": "stream",
     "text": [
      "<dataset name=\"2kbit1\" url=\"http://atlantis.sci.utah.edu/mod_visus?dataset=2kbit1\" typename=\"IdxDataset\">\n",
      "\t<access type=\"network\" chmod=\"r\" compression=\"zip\" />\n",
      "\t<idxfile>\n",
      "\t\t<version value=\"6\" />\n",
      "\t\t<bitmask value=\"V012012012012012012012012012012012\" />\n",
      "\t\t<box value=\"0 2048 0 2048 0 2048\" />\n",
      "\t\t<bitsperblock value=\"16\" />\n",
      "\t\t<blocksperfile value=\"256\" />\n",
      "\t\t<block_interleaving value=\"0\" />\n",
      "\t\t<filename_template value=\"./visus/%02x/%04x.bin\" />\n",
      "\t\t<missing_blocks value=\"False\" />\n",
      "\t\t<arco value=\"0\" />\n",
      "\t\t<time_template value=\"\" />\n",
      "\t\t<axis value=\"\" />\n",
      "\t\t<field name=\"DATA\" description=\"\" index=\"\" default_compression=\"zip\" default_layout=\"hzorder\" default_value=\"0\" filter=\"\" dtype=\"uint8\" />\n",
      "\t\t<timestep when=\"0\" />\n",
      "\t</idxfile>\n",
      "</dataset>\n"
     ]
    }
   ],
   "source": [
    "catalog=LoadCatalog()\n",
    "db=LoadDataset(\"2kbit1\", catalog=catalog)\n",
    "body=db.getDatasetBody().toString()\n",
    "print(body)"
   ]
  },
  {
   "cell_type": "markdown",
   "id": "11a55641",
   "metadata": {},
   "source": [
    "## Example of usage using a local catalog file"
   ]
  },
  {
   "cell_type": "code",
   "execution_count": 43,
   "id": "ca503607",
   "metadata": {},
   "outputs": [
    {
     "name": "stdout",
     "output_type": "stream",
     "text": [
      "<dataset name=\"2kbit1\" url=\"file://D:/visus-datasets/2kbit1/zip/hzorder/visus.idx\" permissions=\"public\" typename=\"IdxDataset\">\n",
      "\t<idxfile>\n",
      "\t\t<version value=\"6\" />\n",
      "\t\t<bitmask value=\"V012012012012012012012012012012012\" />\n",
      "\t\t<box value=\"0 2048 0 2048 0 2048\" />\n",
      "\t\t<bitsperblock value=\"16\" />\n",
      "\t\t<blocksperfile value=\"256\" />\n",
      "\t\t<block_interleaving value=\"0\" />\n",
      "\t\t<filename_template value=\"./visus/%02x/%04x.bin\" />\n",
      "\t\t<missing_blocks value=\"False\" />\n",
      "\t\t<arco value=\"0\" />\n",
      "\t\t<time_template value=\"time_%02d/\" />\n",
      "\t\t<axis value=\"\" />\n",
      "\t\t<field name=\"DATA\" description=\"\" index=\"\" default_compression=\"zip\" default_layout=\"0\" default_value=\"0\" filter=\"\" dtype=\"uint8\" />\n",
      "\t\t<timestep from=\"0\" to=\"1\" step=\"1\" />\n",
      "\t</idxfile>\n",
      "</dataset>\n"
     ]
    }
   ],
   "source": [
    "catalog=LoadCatalog(r\"D:\\visus-datasets\\datasets.config\")\n",
    "db=LoadDataset(\"2kbit1\", catalog=catalog)\n",
    "body=db.getDatasetBody().toString()\n",
    "print(body)"
   ]
  },
  {
   "cell_type": "markdown",
   "id": "1414e52d",
   "metadata": {},
   "source": [
    "## Example of usage using a remote catalog file"
   ]
  },
  {
   "cell_type": "code",
   "execution_count": 45,
   "id": "eeb09232",
   "metadata": {},
   "outputs": [
    {
     "name": "stdout",
     "output_type": "stream",
     "text": [
      "<dataset name=\"2kbit1\" url=\"http://atlantis.sci.utah.edu/mod_visus?dataset=2kbit1\" typename=\"IdxDataset\">\n",
      "\t<access type=\"network\" chmod=\"r\" compression=\"zip\" />\n",
      "\t<idxfile>\n",
      "\t\t<version value=\"6\" />\n",
      "\t\t<bitmask value=\"V012012012012012012012012012012012\" />\n",
      "\t\t<box value=\"0 2048 0 2048 0 2048\" />\n",
      "\t\t<bitsperblock value=\"16\" />\n",
      "\t\t<blocksperfile value=\"256\" />\n",
      "\t\t<block_interleaving value=\"0\" />\n",
      "\t\t<filename_template value=\"./visus/%02x/%04x.bin\" />\n",
      "\t\t<missing_blocks value=\"False\" />\n",
      "\t\t<arco value=\"0\" />\n",
      "\t\t<time_template value=\"\" />\n",
      "\t\t<axis value=\"\" />\n",
      "\t\t<field name=\"DATA\" description=\"\" index=\"\" default_compression=\"zip\" default_layout=\"hzorder\" default_value=\"0\" filter=\"\" dtype=\"uint8\" />\n",
      "\t\t<timestep when=\"0\" />\n",
      "\t</idxfile>\n",
      "</dataset>\n"
     ]
    }
   ],
   "source": [
    "catalog=LoadCatalog(\"https://raw.githubusercontent.com/sci-visus/openvisuspy/refs/heads/main/catalogs/default.config\")\n",
    "db=LoadDataset(\"2kbit1\", catalog=catalog)\n",
    "body=db.getDatasetBody().toString()\n",
    "print(body)"
   ]
  },
  {
   "cell_type": "code",
   "execution_count": null,
   "id": "104ae851",
   "metadata": {},
   "outputs": [],
   "source": []
  }
 ],
 "metadata": {
  "kernelspec": {
   "display_name": "Python 3",
   "language": "python",
   "name": "python3"
  },
  "language_info": {
   "codemirror_mode": {
    "name": "ipython",
    "version": 3
   },
   "file_extension": ".py",
   "mimetype": "text/x-python",
   "name": "python",
   "nbconvert_exporter": "python",
   "pygments_lexer": "ipython3",
   "version": "3.10.0"
  }
 },
 "nbformat": 4,
 "nbformat_minor": 5
}
