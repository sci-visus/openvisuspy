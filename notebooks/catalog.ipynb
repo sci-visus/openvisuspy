{
 "cells": [
  {
   "cell_type": "markdown",
   "id": "b5f6921c",
   "metadata": {},
   "source": [
    "# Example about how to add a dataset catalog to OpenVisus\n",
    "\n",
    "Using the idea of `visus.config` but centrally managed in a catalog file.\n",
    "To maintain backward compatibility, the catalog is stored in XML format, but it can be migrated to JSON and/or YAML in the future.\n"
   ]
  },
  {
   "cell_type": "markdown",
   "id": "8d62b296",
   "metadata": {},
   "source": [
    "## Import the necessary libraries\n",
    "\n"
   ]
  },
  {
   "cell_type": "code",
   "execution_count": 2,
   "id": "b35aa953",
   "metadata": {},
   "outputs": [
    {
     "name": "stdout",
     "output_type": "stream",
     "text": [
      "1751875449.7328525 OpenVisus imported\n"
     ]
    }
   ],
   "source": [
    "import os,sys,logging,time\n",
    "import numpy as np\n",
    "\n",
    "# needed only in debug mode\n",
    "debug_mode=True\n",
    "if debug_mode:\n",
    "  sys.path.append(\"c:/projects/openvisus/build/RelWithDebInfo\")\n",
    "  sys.path.append(\"c:/projects/openvisuspy/src\")\n",
    "\n",
    "import OpenVisus as ov\n",
    "import openvisuspy\n",
    "print(time.time(),\"OpenVisus imported\")"
   ]
  },
  {
   "cell_type": "markdown",
   "id": "2d061106",
   "metadata": {},
   "source": [
    "## Catalog source code, to be integrated into openvisuspy"
   ]
  },
  {
   "cell_type": "code",
   "execution_count": null,
   "id": "4c1bb189",
   "metadata": {},
   "outputs": [],
   "source": [
    "import os,requests\n",
    "\n",
    "# ///////////////////////////////////////////////////////////////////////////\n",
    "class VisusCatalog:\n",
    "   \n",
    "  # constructor\n",
    "  def __init__(self, stree):\n",
    "     self.stree=stree\n",
    "     \n",
    "  # loadDataset\n",
    "  def loadDataset(self, name:str):\n",
    "     \n",
    "    N=self.stree.getNumberOfChilds()\n",
    "    for I in range(N):\n",
    "        child = self.stree.getChild(I)\n",
    "        if child.name==\"dataset\" and child.getAttribute(\"name\") == name:\n",
    "            return ov.LoadDatasetEx(child)\n",
    "\n",
    "    raise ValueError(f\"loadDataset '{name}' not found in the catalog.\")\n",
    "\n",
    "\n",
    "# ///////////////////////////////////////////////////////////////////////////\n",
    "def LoadCatalog(url:str=None)-> VisusCatalog:\n",
    "\n",
    "  \"\"\"\n",
    "  url: str or None\n",
    "  - None: use the default catalog\n",
    "  - str: URL to the catalog, can be a local file path (i.e. ~/visus.config) or a remote URL (`http://nationalsciencedatafabric.org/catalog.config`).\n",
    "  - str: body of the catalog in XML format (to be extended to JSON and YAML too?).\n",
    "  \"\"\"\n",
    "\n",
    "  # no URL provided, use the default catalog\n",
    "  if url is None:\n",
    "\n",
    "    # TODO: donload from a default remote URL (what is a good default URL???)\n",
    "    # ....\n",
    "    if True:\n",
    "      pass\n",
    "\n",
    "    # failed, swith to default catalog that should be inside the OpenVisus package\n",
    "    default_catalog_filename=os.path.join(os.path.dirname(ov.__file__),\"catalog.config\")\n",
    "\n",
    "    # backward compatible: create if does not exist\n",
    "    if not os.path.exists(default_catalog_filename):\n",
    "      with open(default_catalog_filename, 'w') as f:\n",
    "         print(\"Writing default catalog to\", default_catalog_filename)\n",
    "         f.write(\"\"\"<datasets>\n",
    "  <dataset name='2kbit1' url='http://atlantis.sci.utah.edu/mod_visus?dataset=2kbit1' >\n",
    "    <access type='network' chmod='r' compression='zip'  />\n",
    "  </dataset>\n",
    "</datasets>\"\"\")\n",
    "    \n",
    "    return LoadCatalog(default_catalog_filename)\n",
    "\n",
    "  # url is a local file path\n",
    "  local_path=os.path.expanduser(url)\n",
    "  if os.path.exists(local_path):\n",
    "    print(\"Loading catalog from\", local_path)\n",
    "    with open(local_path, 'r') as f:\n",
    "        body=f.read()\n",
    "\n",
    "  # url is a remote URL\n",
    "  elif url.startswith('http://') or url.startswith('https://'):\n",
    "    print(\"Loading catalog from remote URL\", url)\n",
    "    response = requests.get(url)\n",
    "    response.raise_for_status()\n",
    "    body=response.text\n",
    "    \n",
    "  # url is a body of the catalog in XML format\n",
    "  elif url.strip().startswith(\"<\") and url.strip().endswith(\">\"):\n",
    "    print(\"Assuming url is a body of the catalog in XML format\")\n",
    "    body=url\n",
    "\n",
    "  else:\n",
    "    raise ValueError(\"Invalid url. Please provide None | valid url | XML document.\")\n",
    "  \n",
    "  # parse XML body\n",
    "  print(\"Parsing catalog body\")\n",
    "  body = body.strip()\n",
    "  print(body)\n",
    "  try:\n",
    "    stree=ov.StringTree.fromString(body)\n",
    "    print(\"Parsed StringTree:\", stree.valid())\n",
    "    if stree.valid():\n",
    "      return VisusCatalog(stree)\n",
    "  except Exception as e:\n",
    "    print(\"Exception while parsing StringTree:\", e)\n",
    "    pass\n",
    "\n",
    "  raise ValueError(\"Error parsing StringTree from the provided body, trying to parse as XML\")\n"
   ]
  },
  {
   "cell_type": "markdown",
   "id": "a6cd8862",
   "metadata": {},
   "source": [
    "## Example of usage of default catalog"
   ]
  },
  {
   "cell_type": "code",
   "execution_count": 54,
   "id": "4d0497cc",
   "metadata": {},
   "outputs": [
    {
     "name": "stdout",
     "output_type": "stream",
     "text": [
      "Loading catalog from c:\\projects/openvisus/build/RelWithDebInfo\\OpenVisus\\catalog.config\n",
      "Parsing catalog body\n",
      "<datasets>\n",
      "  <dataset name='2kbit1' url='http://atlantis.sci.utah.edu/mod_visus?dataset=2kbit1' >\n",
      "    <access type='network' chmod='r' compression='zip'  />\n",
      "  </dataset>\n",
      "</datasets>\n",
      "Parsed StringTree: True\n",
      "<dataset name=\"2kbit1\" url=\"http://atlantis.sci.utah.edu/mod_visus?dataset=2kbit1\" typename=\"IdxDataset\">\n",
      "\t<access type=\"network\" chmod=\"r\" compression=\"zip\" />\n",
      "\t<idxfile>\n",
      "\t\t<version value=\"6\" />\n",
      "\t\t<bitmask value=\"V012012012012012012012012012012012\" />\n",
      "\t\t<box value=\"0 2048 0 2048 0 2048\" />\n",
      "\t\t<bitsperblock value=\"16\" />\n",
      "\t\t<blocksperfile value=\"256\" />\n",
      "\t\t<block_interleaving value=\"0\" />\n",
      "\t\t<filename_template value=\"./visus/%02x/%04x.bin\" />\n",
      "\t\t<missing_blocks value=\"False\" />\n",
      "\t\t<arco value=\"0\" />\n",
      "\t\t<time_template value=\"\" />\n",
      "\t\t<axis value=\"\" />\n",
      "\t\t<field name=\"DATA\" description=\"\" index=\"\" default_compression=\"zip\" default_layout=\"hzorder\" default_value=\"0\" filter=\"\" dtype=\"uint8\" />\n",
      "\t\t<timestep when=\"0\" />\n",
      "\t</idxfile>\n",
      "</dataset>\n"
     ]
    }
   ],
   "source": [
    "catalog=LoadCatalog()\n",
    "db=catalog.loadDataset(\"2kbit1\")\n",
    "body=db.getDatasetBody().toString()\n",
    "print(body)"
   ]
  },
  {
   "cell_type": "markdown",
   "id": "6ca84739",
   "metadata": {},
   "source": [
    "## Load the catalog from a URL or local file"
   ]
  },
  {
   "cell_type": "code",
   "execution_count": 56,
   "id": "e282fa0b",
   "metadata": {},
   "outputs": [
    {
     "name": "stdout",
     "output_type": "stream",
     "text": [
      "Loading catalog from ../catalogs/default.config\n",
      "Parsing catalog body\n",
      "<datasets>\n",
      "      <dataset name='2kbit1' url='http://atlantis.sci.utah.edu/mod_visus?dataset=2kbit1' >\n",
      "          <access type='network' chmod='r' compression='zip'  />\n",
      "      </dataset>\n",
      "  </datasets>\n",
      "Parsed StringTree: True\n",
      "<dataset name=\"2kbit1\" url=\"http://atlantis.sci.utah.edu/mod_visus?dataset=2kbit1\" typename=\"IdxDataset\">\n",
      "\t<access type=\"network\" chmod=\"r\" compression=\"zip\" />\n",
      "\t<idxfile>\n",
      "\t\t<version value=\"6\" />\n",
      "\t\t<bitmask value=\"V012012012012012012012012012012012\" />\n",
      "\t\t<box value=\"0 2048 0 2048 0 2048\" />\n",
      "\t\t<bitsperblock value=\"16\" />\n",
      "\t\t<blocksperfile value=\"256\" />\n",
      "\t\t<block_interleaving value=\"0\" />\n",
      "\t\t<filename_template value=\"./visus/%02x/%04x.bin\" />\n",
      "\t\t<missing_blocks value=\"False\" />\n",
      "\t\t<arco value=\"0\" />\n",
      "\t\t<time_template value=\"\" />\n",
      "\t\t<axis value=\"\" />\n",
      "\t\t<field name=\"DATA\" description=\"\" index=\"\" default_compression=\"zip\" default_layout=\"hzorder\" default_value=\"0\" filter=\"\" dtype=\"uint8\" />\n",
      "\t\t<timestep when=\"0\" />\n",
      "\t</idxfile>\n",
      "</dataset>\n"
     ]
    }
   ],
   "source": [
    "catalog=LoadCatalog(\"../catalogs/default.config\")\n",
    "db=catalog.loadDataset(\"2kbit1\")\n",
    "body=db.getDatasetBody().toString()\n",
    "print(body)"
   ]
  },
  {
   "cell_type": "markdown",
   "id": "1414e52d",
   "metadata": {},
   "source": [
    "## Example of usage using a remote catalog file"
   ]
  },
  {
   "cell_type": "code",
   "execution_count": 53,
   "id": "eeb09232",
   "metadata": {},
   "outputs": [
    {
     "name": "stdout",
     "output_type": "stream",
     "text": [
      "Loading catalog from remote URL https://raw.githubusercontent.com/sci-visus/openvisuspy/refs/heads/main/catalogs/default.config\n",
      "Parsing catalog body\n",
      "<datasets>\n",
      "      <dataset name='2kbit1' url='http://atlantis.sci.utah.edu/mod_visus?dataset=2kbit1' >\n",
      "          <access type='network' chmod='r' compression='zip'  />\n",
      "      </dataset>\n",
      "  </datasets>\n",
      "Parsed StringTree: True\n",
      "<dataset name=\"2kbit1\" url=\"http://atlantis.sci.utah.edu/mod_visus?dataset=2kbit1\" typename=\"IdxDataset\">\n",
      "\t<access type=\"network\" chmod=\"r\" compression=\"zip\" />\n",
      "\t<idxfile>\n",
      "\t\t<version value=\"6\" />\n",
      "\t\t<bitmask value=\"V012012012012012012012012012012012\" />\n",
      "\t\t<box value=\"0 2048 0 2048 0 2048\" />\n",
      "\t\t<bitsperblock value=\"16\" />\n",
      "\t\t<blocksperfile value=\"256\" />\n",
      "\t\t<block_interleaving value=\"0\" />\n",
      "\t\t<filename_template value=\"./visus/%02x/%04x.bin\" />\n",
      "\t\t<missing_blocks value=\"False\" />\n",
      "\t\t<arco value=\"0\" />\n",
      "\t\t<time_template value=\"\" />\n",
      "\t\t<axis value=\"\" />\n",
      "\t\t<field name=\"DATA\" description=\"\" index=\"\" default_compression=\"zip\" default_layout=\"hzorder\" default_value=\"0\" filter=\"\" dtype=\"uint8\" />\n",
      "\t\t<timestep when=\"0\" />\n",
      "\t</idxfile>\n",
      "</dataset>\n"
     ]
    }
   ],
   "source": [
    "catalog=LoadCatalog(\"https://raw.githubusercontent.com/sci-visus/openvisuspy/refs/heads/main/catalogs/default.config\")\n",
    "db=catalog.loadDataset(\"2kbit1\")\n",
    "body=db.getDatasetBody().toString()\n",
    "print(body)"
   ]
  },
  {
   "cell_type": "code",
   "execution_count": null,
   "id": "104ae851",
   "metadata": {},
   "outputs": [],
   "source": []
  }
 ],
 "metadata": {
  "kernelspec": {
   "display_name": "Python 3",
   "language": "python",
   "name": "python3"
  },
  "language_info": {
   "codemirror_mode": {
    "name": "ipython",
    "version": 3
   },
   "file_extension": ".py",
   "mimetype": "text/x-python",
   "name": "python",
   "nbconvert_exporter": "python",
   "pygments_lexer": "ipython3",
   "version": "3.10.0"
  }
 },
 "nbformat": 4,
 "nbformat_minor": 5
}
